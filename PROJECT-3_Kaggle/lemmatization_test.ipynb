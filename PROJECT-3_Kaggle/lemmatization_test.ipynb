{
 "cells": [
  {
   "cell_type": "markdown",
   "metadata": {},
   "source": [
    "#### Токенизация  \n",
    "Токенизация — процесс разбиения текстового документа на отдельные слова, которые называются токенами."
   ]
  },
  {
   "cell_type": "code",
   "execution_count": 91,
   "metadata": {},
   "outputs": [
    {
     "name": "stderr",
     "output_type": "stream",
     "text": [
      "[nltk_data] Downloading package punkt to\n",
      "[nltk_data]     C:\\Users\\dolzh\\AppData\\Roaming\\nltk_data...\n",
      "[nltk_data]   Package punkt is already up-to-date!\n"
     ]
    },
    {
     "data": {
      "text/plain": [
       "['Backgammon is one of the oldest known board games.',\n",
       " 'Its history can be traced back nearly 5,000 years to archeological discoveries in the Middle East.',\n",
       " 'It is a two player game where each player has fifteen checkers which move between twenty-four points according to the roll of two dice.']"
      ]
     },
     "execution_count": 91,
     "metadata": {},
     "output_type": "execute_result"
    }
   ],
   "source": [
    "text = 'Backgammon is one of the oldest known board games. \\\n",
    "Its history can be traced back nearly 5,000 years to archeological discoveries in the Middle East. \\\n",
    "It is a two player game where each player has fifteen checkers which move between twenty-four points according to the roll of two dice.'\n",
    "    \n",
    "\n",
    "import nltk\n",
    "nltk.download('punkt')\n",
    "\n",
    "from nltk.tokenize import word_tokenize\n",
    "\n",
    "# tokens = nltk.word_tokenize(text)     # токенизация по словам\n",
    "tokens = nltk.sent_tokenize(text)       # токенизация по предложениям\n",
    "\n",
    "tokens\n"
   ]
  },
  {
   "cell_type": "markdown",
   "metadata": {},
   "source": [
    "#### Лемматизация и стемминг текста"
   ]
  },
  {
   "cell_type": "markdown",
   "metadata": {},
   "source": [
    "Приведение всех форм слова к одной нормальной форме"
   ]
  },
  {
   "cell_type": "code",
   "execution_count": 92,
   "metadata": {},
   "outputs": [
    {
     "name": "stdout",
     "output_type": "stream",
     "text": [
      "The striped bats are hanging on their feet for best\n",
      "The striped bat are hanging on their foot for best\n"
     ]
    }
   ],
   "source": [
    "text = 'dog dogs dog’s dogs’'\n",
    "text = \"The striped bats are hanging on their feet for best\"\n",
    "word = 'dogs'\n",
    "\n",
    "import nltk\n",
    "# nltk.download('wordnet')\n",
    "from nltk.stem import WordNetLemmatizer\n",
    "\n",
    "# Init the Wordnet Lemmatizer\n",
    "lemmatizer = WordNetLemmatizer()\n",
    "\n",
    "lemmatizer.lemmatize(word) # для одного слова\n",
    "\n",
    "# для того, чтобы разбить предложение нужно его сначала токенизировать по словам\n",
    "# nltk.download('punkt')\n",
    "from nltk.tokenize import word_tokenize\n",
    "word_list = nltk.word_tokenize(text)     # токенизация по словам\n",
    "word_list\n",
    "\n",
    "# Lemmatize list of words and join\n",
    "lemmatized_out = ' '.join([lemmatizer.lemmatize(w) for w in word_list])\n",
    "print(text)\n",
    "print(lemmatized_out)"
   ]
  },
  {
   "cell_type": "code",
   "execution_count": 93,
   "metadata": {},
   "outputs": [
    {
     "data": {
      "text/plain": [
       "'are'"
      ]
     },
     "execution_count": 93,
     "metadata": {},
     "output_type": "execute_result"
    }
   ],
   "source": [
    "word = 'are'\n",
    "lemmatizer = WordNetLemmatizer()\n",
    "lemmatizer.lemmatize(word)"
   ]
  },
  {
   "cell_type": "markdown",
   "metadata": {},
   "source": [
    "необходимо добавить аргумент part-of-speech (POS-тег)"
   ]
  },
  {
   "cell_type": "code",
   "execution_count": 94,
   "metadata": {},
   "outputs": [
    {
     "name": "stdout",
     "output_type": "stream",
     "text": [
      "strip\n",
      "stripe\n"
     ]
    }
   ],
   "source": [
    "print(lemmatizer.lemmatize(\"stripes\", 'v')) \n",
    "print(lemmatizer.lemmatize(\"stripes\", 'n'))  "
   ]
  },
  {
   "cell_type": "markdown",
   "metadata": {},
   "source": [
    "Как получить pos-тег для каждого слова"
   ]
  },
  {
   "cell_type": "code",
   "execution_count": 95,
   "metadata": {},
   "outputs": [
    {
     "name": "stdout",
     "output_type": "stream",
     "text": [
      "[('feet', 'NNS')]\n"
     ]
    }
   ],
   "source": [
    "print(nltk.pos_tag(['feet']))"
   ]
  },
  {
   "cell_type": "code",
   "execution_count": 96,
   "metadata": {},
   "outputs": [
    {
     "name": "stdout",
     "output_type": "stream",
     "text": [
      "[('The', 'DT'), ('striped', 'JJ'), ('bats', 'NNS'), ('are', 'VBP'), ('hanging', 'VBG'), ('on', 'IN'), ('their', 'PRP$'), ('feet', 'NNS'), ('for', 'IN'), ('best', 'JJS')]\n"
     ]
    }
   ],
   "source": [
    "text = \"The striped bats are hanging on their feet for best\"\n",
    "print(nltk.pos_tag(nltk.word_tokenize(text)))"
   ]
  },
  {
   "cell_type": "markdown",
   "metadata": {},
   "source": [
    "pos_tag() возвращает кортеж с тегом, но лемматизатор wordnet принимает тег в другом виде"
   ]
  },
  {
   "cell_type": "code",
   "execution_count": 104,
   "metadata": {},
   "outputs": [],
   "source": [
    "def get_wordnet_pos(word):\n",
    "    \"\"\"Map POS tag to first character lemmatize() accepts\"\"\"\n",
    "    tag = nltk.pos_tag([word])[0][1][0].upper()\n",
    "    tag_dict = {\"J\": wordnet.ADJ,\n",
    "                \"N\": wordnet.NOUN,\n",
    "                \"V\": wordnet.VERB,\n",
    "                \"R\": wordnet.ADV}\n",
    "    return tag_dict.get(tag, wordnet.NOUN)"
   ]
  },
  {
   "cell_type": "code",
   "execution_count": 100,
   "metadata": {},
   "outputs": [],
   "source": [
    "# word = 'slowly'\n",
    "# # tag = nltk.pos_tag([word])[0][1][0].upper()\n",
    "# tag = nltk.pos_tag([word])[0][1][0].upper()\n",
    "# print(tag)\n",
    "\n",
    "# tag_dict = {\"J\": wordnet.ADJ,\n",
    "#             \"N\": wordnet.NOUN,\n",
    "#             \"V\": wordnet.VERB,\n",
    "#             \"R\": wordnet.ADV}\n",
    "\n",
    "# print(tag_dict.get(tag, wordnet.NOUN))"
   ]
  },
  {
   "cell_type": "code",
   "execution_count": 112,
   "metadata": {},
   "outputs": [
    {
     "name": "stdout",
     "output_type": "stream",
     "text": [
      "be\n",
      "['The', 'strip', 'bat', 'be', 'hang', 'on', 'their', 'foot', 'for', 'best']\n"
     ]
    }
   ],
   "source": [
    "# 1. Init Lemmatizer\n",
    "lemmatizer = WordNetLemmatizer()\n",
    "\n",
    "# 2. Lemmatize Single Word with the appropriate POS tag\n",
    "word = 'are'\n",
    "print(lemmatizer.lemmatize(word, get_wordnet_pos(word)))\n",
    "\n",
    "# 3. Lemmatize a Sentence with the appropriate POS tag\n",
    "sentence = \"The striped bats are hanging on their feet for best\"\n",
    "\n",
    "print([lemmatizer.lemmatize(w, get_wordnet_pos(w)) for w in nltk.word_tokenize(sentence)])\n"
   ]
  },
  {
   "cell_type": "markdown",
   "metadata": {},
   "source": []
  },
  {
   "cell_type": "markdown",
   "metadata": {},
   "source": []
  },
  {
   "cell_type": "markdown",
   "metadata": {},
   "source": []
  },
  {
   "cell_type": "code",
   "execution_count": 118,
   "metadata": {},
   "outputs": [
    {
     "name": "stdout",
     "output_type": "stream",
     "text": [
      "review 1:\n",
      "I'm not glad to see you!\n",
      "Score: {'neg': 0.357, 'neu': 0.643, 'pos': 0.0, 'compound': -0.416}\n",
      "\n",
      "review 2:\n",
      "It was just horrible, the worst ever.\n",
      "Score: {'neg': 0.603, 'neu': 0.397, 'pos': 0.0, 'compound': -0.8225}\n"
     ]
    },
    {
     "name": "stderr",
     "output_type": "stream",
     "text": [
      "[nltk_data] Downloading package vader_lexicon to\n",
      "[nltk_data]     C:\\Users\\dolzh\\AppData\\Roaming\\nltk_data...\n",
      "[nltk_data]   Package vader_lexicon is already up-to-date!\n"
     ]
    }
   ],
   "source": [
    "import nltk\n",
    "from nltk.sentiment.vader import SentimentIntensityAnalyzer\n",
    "import time\n",
    "nltk.downloader.download('vader_lexicon')\n",
    "\n",
    "sent_analyzer = SentimentIntensityAnalyzer()\n",
    "\n",
    "# rev1 = \"The hotel was very good, I love it!\"\n",
    "rev1 = \"I'm not glad to see you!\"\n",
    "rev2 = \"It was just horrible, the worst ever.\"\n",
    "\n",
    "print(f\"review 1:\\n{rev1}\\nScore: {sent_analyzer.polarity_scores(rev1)}\")\n",
    "\n",
    "print(f\"\\nreview 2:\\n{rev2}\\nScore: {sent_analyzer.polarity_scores(rev2)}\")"
   ]
  }
 ],
 "metadata": {
  "kernelspec": {
   "display_name": "Python 3.9.13 64-bit (microsoft store)",
   "language": "python",
   "name": "python3"
  },
  "language_info": {
   "codemirror_mode": {
    "name": "ipython",
    "version": 3
   },
   "file_extension": ".py",
   "mimetype": "text/x-python",
   "name": "python",
   "nbconvert_exporter": "python",
   "pygments_lexer": "ipython3",
   "version": "3.9.13"
  },
  "orig_nbformat": 4,
  "vscode": {
   "interpreter": {
    "hash": "cd4451104da11d2cb68898e7168ea5da44abbdb4e9427c2e53ca7c1916134f31"
   }
  }
 },
 "nbformat": 4,
 "nbformat_minor": 2
}
