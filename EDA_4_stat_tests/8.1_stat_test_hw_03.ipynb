{
 "cells": [
  {
   "cell_type": "markdown",
   "metadata": {},
   "source": [
    "# <center> EDA-4. СТАТИСТИЧЕСКИЕ ТЕСТЫ (HW-03)"
   ]
  },
  {
   "cell_type": "code",
   "execution_count": 70,
   "metadata": {},
   "outputs": [],
   "source": [
    "import pandas as pd\n",
    "import seaborn as sns\n",
    "import numpy as np"
   ]
  },
  {
   "cell_type": "markdown",
   "metadata": {},
   "source": [
    "объединяем два исходных массива в датафрейм"
   ]
  },
  {
   "cell_type": "code",
   "execution_count": 71,
   "metadata": {},
   "outputs": [],
   "source": [
    "petersburg = [0.0974, 0.1352, 0.0817, 0.1016, 0.0968, 0.1064, 0.105]\n",
    "magadan = [0.1033, 0.0915, 0.0781, 0.0685, 0.0677, 0.0697, 0.0764,\n",
    "           0.0689]\n",
    "data_p = {'petersburg': petersburg}\n",
    "data_m = {'magadan': magadan}\n",
    "\n",
    "data_p = pd.DataFrame(data_p)\n",
    "data_m = pd.DataFrame(data_m)\n",
    "\n",
    "data = pd.concat([data_p, data_m], axis=1)\n",
    "data = data.fillna({'petersburg': data['petersburg'].mean()})"
   ]
  },
  {
   "cell_type": "markdown",
   "metadata": {},
   "source": [
    "## проверка данных на нормальность"
   ]
  },
  {
   "cell_type": "markdown",
   "metadata": {},
   "source": [
    "выдвигаю гипотезы"
   ]
  },
  {
   "cell_type": "code",
   "execution_count": 72,
   "metadata": {},
   "outputs": [],
   "source": [
    "H0 = 'Данные распределены нормально'\n",
    "Ha = 'Данные не распределены нормально (мы отвергаем H0)'"
   ]
  },
  {
   "cell_type": "markdown",
   "metadata": {},
   "source": [
    "устанавливаю уровень значимости"
   ]
  },
  {
   "cell_type": "code",
   "execution_count": 73,
   "metadata": {},
   "outputs": [],
   "source": [
    "alpha = 0.05"
   ]
  },
  {
   "cell_type": "markdown",
   "metadata": {},
   "source": [
    "### Тест Шапиро-Уилка"
   ]
  },
  {
   "cell_type": "code",
   "execution_count": 74,
   "metadata": {},
   "outputs": [],
   "source": [
    "from scipy.stats import shapiro"
   ]
  },
  {
   "cell_type": "code",
   "execution_count": 75,
   "metadata": {},
   "outputs": [
    {
     "name": "stdout",
     "output_type": "stream",
     "text": [
      "p= 0.1\n",
      "Данные распределены нормально\n"
     ]
    }
   ],
   "source": [
    "_, p = shapiro(data)\n",
    "print(f'p= {round(p, 3)}')\n",
    "\n",
    "# Интерпретация \n",
    "\n",
    "if p > alpha:\n",
    "\tprint(H0)\n",
    "else:\n",
    "\tprint(Ha)"
   ]
  },
  {
   "cell_type": "markdown",
   "metadata": {},
   "source": [
    "Так как данные подчиняются нормальному распределению, необходимо использовать параметрические статистические методы.  \n",
    "Наиболее распространенный параметрический тест на корреляцию это тест на корреляцию Пирсона.  \n",
    "\n"
   ]
  },
  {
   "cell_type": "markdown",
   "metadata": {},
   "source": [
    "## Тест на корреляцию"
   ]
  },
  {
   "cell_type": "markdown",
   "metadata": {},
   "source": [
    "### Корреляция Пирсона"
   ]
  },
  {
   "cell_type": "code",
   "execution_count": 76,
   "metadata": {},
   "outputs": [],
   "source": [
    "from scipy.stats import pearsonr"
   ]
  },
  {
   "cell_type": "markdown",
   "metadata": {},
   "source": [
    "Расчет корреляции Пирсона и значения р между данными по Питеру и Магадану"
   ]
  },
  {
   "cell_type": "code",
   "execution_count": 77,
   "metadata": {},
   "outputs": [
    {
     "name": "stdout",
     "output_type": "stream",
     "text": [
      "Коээфициент корреляции Пирсона = 0.245\n",
      "Двухсторонее значение p = 0.559\n"
     ]
    }
   ],
   "source": [
    "corr, p = pearsonr(data['petersburg'], data['magadan'])\n",
    "print(f'Коээфициент корреляции Пирсона = {round(corr, 3)}')\n",
    "print(f'Двухсторонее значение p = {round(p, 3)}')"
   ]
  },
  {
   "cell_type": "code",
   "execution_count": 78,
   "metadata": {},
   "outputs": [
    {
     "name": "stdout",
     "output_type": "stream",
     "text": [
      "0.56 > 0.05. Мы не можем отвергнуть нулевую гипотезу об отсутсвии зависимости между переменными.\n"
     ]
    }
   ],
   "source": [
    "if p>alpha:\n",
    "    print(f\"{round(p, 2)} > {alpha}. Мы не можем отвергнуть нулевую гипотезу об отсутсвии зависимости между переменными.\")\n",
    "else:\n",
    "    print(f\"{p} <= {alpha}. Мы отвергаем нулевую гипотезу об отсутсвии зависимости между переменными.\")"
   ]
  },
  {
   "cell_type": "markdown",
   "metadata": {},
   "source": [
    "Коэффициент корреляции 0.25 говорит о об отсутсвии связи в переменных.\n",
    "Значение p > 0.05 не позволяет отвергнуть нулевую гипотезу о том, что зависимости между переменными нет."
   ]
  },
  {
   "cell_type": "markdown",
   "metadata": {},
   "source": [
    "## Сравнительный тест"
   ]
  },
  {
   "cell_type": "markdown",
   "metadata": {},
   "source": [
    "В качестве сравнительного теста проводим независимый t-тест так как зависимая переменная (размер мидий) - количественная, а группы происходят из разных совокупностей."
   ]
  },
  {
   "cell_type": "code",
   "execution_count": 79,
   "metadata": {},
   "outputs": [],
   "source": [
    "from scipy.stats import ttest_ind"
   ]
  },
  {
   "cell_type": "markdown",
   "metadata": {},
   "source": [
    "Нулевая и альтернативная гипотезы выглядят следующим образом"
   ]
  },
  {
   "cell_type": "code",
   "execution_count": 80,
   "metadata": {},
   "outputs": [],
   "source": [
    "H0 = 'Нет значимой разницы между размером раковин мидий в разных городах.'\n",
    "Ha = 'Есть значимая разница между размером раковин мидий в разных городах.'"
   ]
  },
  {
   "cell_type": "code",
   "execution_count": 81,
   "metadata": {},
   "outputs": [
    {
     "name": "stdout",
     "output_type": "stream",
     "text": [
      "\n",
      "*** Результаты независимого T-теста ***\n",
      "0.0 <= 0.05. Мы отвергаем нулевую гипотезу. Есть значимая разница между размером раковин мидий в разных городах.\n"
     ]
    }
   ],
   "source": [
    "def t_test(df, feat1, feat2):\n",
    "    print('\\n' + \"*** Результаты независимого T-теста ***\")\n",
    "    test_results = ttest_ind(df[feat1], df[feat2], equal_var=True)\n",
    "\n",
    "    p = round(test_results[1],2)\n",
    "\n",
    "    if p>alpha:\n",
    "        print(f\"{p} > {alpha}. Мы не можем отвергнуть нулевую гипотезу. {H0}\")\n",
    "    else:\n",
    "        print(f\"{p} <= {alpha}. Мы отвергаем нулевую гипотезу. {Ha}\")\n",
    "\n",
    "t_test(data, 'petersburg', 'magadan')"
   ]
  },
  {
   "cell_type": "markdown",
   "metadata": {},
   "source": [
    "Определение разницы в среднем размере мидии в зависимости от города"
   ]
  },
  {
   "cell_type": "code",
   "execution_count": 82,
   "metadata": {},
   "outputs": [
    {
     "name": "stdout",
     "output_type": "stream",
     "text": [
      "Средний размер мидий в зависимости от города отличается на 0.025 единиц\n",
      "Что составляет 25.0 % от наибольшей величины\n"
     ]
    }
   ],
   "source": [
    "diff = np.abs(data['petersburg'].mean() - data['magadan'].mean())\n",
    "print(f'Средний размер мидий в зависимости от города отличается на {round(diff, 3)} единиц')\n",
    "diff_percent = diff / max(data['petersburg'].mean(), data['magadan'].mean())\n",
    "print(f'Что составляет {round(diff_percent, 2) * 100} % от наибольшей величины')"
   ]
  }
 ],
 "metadata": {
  "kernelspec": {
   "display_name": "Python 3.9.13 64-bit (microsoft store)",
   "language": "python",
   "name": "python3"
  },
  "language_info": {
   "codemirror_mode": {
    "name": "ipython",
    "version": 3
   },
   "file_extension": ".py",
   "mimetype": "text/x-python",
   "name": "python",
   "nbconvert_exporter": "python",
   "pygments_lexer": "ipython3",
   "version": "3.9.13"
  },
  "orig_nbformat": 4,
  "vscode": {
   "interpreter": {
    "hash": "cd4451104da11d2cb68898e7168ea5da44abbdb4e9427c2e53ca7c1916134f31"
   }
  }
 },
 "nbformat": 4,
 "nbformat_minor": 2
}
