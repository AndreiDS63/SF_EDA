{
 "cells": [
  {
   "cell_type": "code",
   "execution_count": 2,
   "metadata": {},
   "outputs": [
    {
     "name": "stdout",
     "output_type": "stream",
     "text": [
      "Collecting comet_ml\n",
      "  Using cached comet_ml-3.31.17-py3-none-any.whl (418 kB)\n",
      "Requirement already satisfied: six in c:\\users\\dolzh\\appdata\\local\\packages\\pythonsoftwarefoundation.python.3.9_qbz5n2kfra8p0\\localcache\\local-packages\\python39\\site-packages (from comet_ml) (1.16.0)\n",
      "Collecting jsonschema!=3.1.0,>=2.6.0\n",
      "  Downloading jsonschema-4.17.0-py3-none-any.whl (83 kB)\n",
      "     -------------------------------------- 83.8/83.8 KB 675.2 kB/s eta 0:00:00\n",
      "Collecting dulwich!=0.20.33,>=0.20.6\n",
      "  Using cached dulwich-0.20.50-cp39-cp39-win_amd64.whl (472 kB)\n",
      "Collecting requests-toolbelt>=0.8.0\n",
      "  Using cached requests_toolbelt-0.10.1-py2.py3-none-any.whl (54 kB)\n",
      "Collecting wurlitzer>=1.0.2\n",
      "  Using cached wurlitzer-3.0.2-py3-none-any.whl (7.3 kB)\n",
      "Collecting sentry-sdk>=1.1.0\n",
      "  Using cached sentry_sdk-1.10.1-py2.py3-none-any.whl (166 kB)\n",
      "Collecting semantic-version>=2.8.0\n",
      "  Using cached semantic_version-2.10.0-py2.py3-none-any.whl (15 kB)\n",
      "Collecting everett[ini]>=1.0.1\n",
      "  Using cached everett-3.1.0-py2.py3-none-any.whl (35 kB)\n",
      "Collecting websocket-client<1.4.0,>=0.55.0\n",
      "  Using cached websocket_client-1.3.3-py3-none-any.whl (54 kB)\n",
      "Collecting wrapt>=1.11.2\n",
      "  Downloading wrapt-1.14.1-cp39-cp39-win_amd64.whl (35 kB)\n",
      "Requirement already satisfied: requests>=2.18.4 in c:\\users\\dolzh\\appdata\\local\\packages\\pythonsoftwarefoundation.python.3.9_qbz5n2kfra8p0\\localcache\\local-packages\\python39\\site-packages (from comet_ml) (2.28.1)\n",
      "Requirement already satisfied: urllib3>=1.25 in c:\\users\\dolzh\\appdata\\local\\packages\\pythonsoftwarefoundation.python.3.9_qbz5n2kfra8p0\\localcache\\local-packages\\python39\\site-packages (from dulwich!=0.20.33,>=0.20.6->comet_ml) (1.26.12)\n",
      "Collecting configobj\n",
      "  Using cached configobj-5.0.6-py3-none-any.whl\n",
      "Collecting pyrsistent!=0.17.0,!=0.17.1,!=0.17.2,>=0.14.0\n",
      "  Downloading pyrsistent-0.19.2-cp39-cp39-win_amd64.whl (62 kB)\n",
      "     ---------------------------------------- 62.8/62.8 KB ? eta 0:00:00\n",
      "Requirement already satisfied: attrs>=17.4.0 in c:\\users\\dolzh\\appdata\\local\\packages\\pythonsoftwarefoundation.python.3.9_qbz5n2kfra8p0\\localcache\\local-packages\\python39\\site-packages (from jsonschema!=3.1.0,>=2.6.0->comet_ml) (22.1.0)\n",
      "Requirement already satisfied: idna<4,>=2.5 in c:\\users\\dolzh\\appdata\\local\\packages\\pythonsoftwarefoundation.python.3.9_qbz5n2kfra8p0\\localcache\\local-packages\\python39\\site-packages (from requests>=2.18.4->comet_ml) (3.4)\n",
      "Requirement already satisfied: charset-normalizer<3,>=2 in c:\\users\\dolzh\\appdata\\local\\packages\\pythonsoftwarefoundation.python.3.9_qbz5n2kfra8p0\\localcache\\local-packages\\python39\\site-packages (from requests>=2.18.4->comet_ml) (2.1.1)\n",
      "Requirement already satisfied: certifi>=2017.4.17 in c:\\users\\dolzh\\appdata\\local\\packages\\pythonsoftwarefoundation.python.3.9_qbz5n2kfra8p0\\localcache\\local-packages\\python39\\site-packages (from requests>=2.18.4->comet_ml) (2022.9.24)\n",
      "Installing collected packages: everett, wurlitzer, wrapt, websocket-client, sentry-sdk, semantic-version, pyrsistent, dulwich, configobj, requests-toolbelt, jsonschema, comet_ml\n",
      "Successfully installed comet_ml-3.31.17 configobj-5.0.6 dulwich-0.20.50 everett-3.1.0 jsonschema-4.17.0 pyrsistent-0.19.2 requests-toolbelt-0.10.1 semantic-version-2.10.0 sentry-sdk-1.10.1 websocket-client-1.3.3 wrapt-1.14.1 wurlitzer-3.0.2\n"
     ]
    },
    {
     "name": "stderr",
     "output_type": "stream",
     "text": [
      "  WARNING: The script wsdump.exe is installed in 'C:\\Users\\dolzh\\AppData\\Local\\Packages\\PythonSoftwareFoundation.Python.3.9_qbz5n2kfra8p0\\LocalCache\\local-packages\\Python39\\Scripts' which is not on PATH.\n",
      "  Consider adding this directory to PATH or, if you prefer to suppress this warning, use --no-warn-script-location.\n",
      "  WARNING: The script dulwich.exe is installed in 'C:\\Users\\dolzh\\AppData\\Local\\Packages\\PythonSoftwareFoundation.Python.3.9_qbz5n2kfra8p0\\LocalCache\\local-packages\\Python39\\Scripts' which is not on PATH.\n",
      "  Consider adding this directory to PATH or, if you prefer to suppress this warning, use --no-warn-script-location.\n",
      "  WARNING: The script jsonschema.exe is installed in 'C:\\Users\\dolzh\\AppData\\Local\\Packages\\PythonSoftwareFoundation.Python.3.9_qbz5n2kfra8p0\\LocalCache\\local-packages\\Python39\\Scripts' which is not on PATH.\n",
      "  Consider adding this directory to PATH or, if you prefer to suppress this warning, use --no-warn-script-location.\n",
      "  WARNING: The script comet.exe is installed in 'C:\\Users\\dolzh\\AppData\\Local\\Packages\\PythonSoftwareFoundation.Python.3.9_qbz5n2kfra8p0\\LocalCache\\local-packages\\Python39\\Scripts' which is not on PATH.\n",
      "  Consider adding this directory to PATH or, if you prefer to suppress this warning, use --no-warn-script-location.\n",
      "WARNING: You are using pip version 22.0.4; however, version 22.3.1 is available.\n",
      "You should consider upgrading via the 'C:\\Users\\dolzh\\AppData\\Local\\Microsoft\\WindowsApps\\PythonSoftwareFoundation.Python.3.9_qbz5n2kfra8p0\\python.exe -m pip install --upgrade pip' command.\n"
     ]
    }
   ],
   "source": [
    "!pip install comet_ml "
   ]
  },
  {
   "cell_type": "code",
   "execution_count": 1,
   "metadata": {},
   "outputs": [],
   "source": [
    "from comet_ml import Experiment"
   ]
  },
  {
   "cell_type": "code",
   "execution_count": 2,
   "metadata": {},
   "outputs": [
    {
     "name": "stderr",
     "output_type": "stream",
     "text": [
      "COMET WARNING: As you are running in a Jupyter environment, you will need to call `experiment.end()` when finished to ensure all metrics and code are logged before exiting.\n",
      "COMET INFO: Experiment is live on comet.com https://www.comet.com/andreids63/medical-appointment/b95b84deb2b94689a28acf43ebe6e204\n",
      "\n"
     ]
    }
   ],
   "source": [
    "\n",
    "\n",
    "# Создайте эксперимент с помощью вашего API ключа\n",
    "experiment = Experiment(\n",
    "    api_key=\"EyeJgLcUG0y7eOqJKXm033LRQ\",\n",
    "    project_name=\"medical-appointment\",\n",
    "    workspace=\"andreids63\",\n",
    ")"
   ]
  }
 ],
 "metadata": {
  "kernelspec": {
   "display_name": "Python 3.9.13 64-bit (microsoft store)",
   "language": "python",
   "name": "python3"
  },
  "language_info": {
   "codemirror_mode": {
    "name": "ipython",
    "version": 3
   },
   "file_extension": ".py",
   "mimetype": "text/x-python",
   "name": "python",
   "nbconvert_exporter": "python",
   "pygments_lexer": "ipython3",
   "version": "3.9.13"
  },
  "orig_nbformat": 4,
  "vscode": {
   "interpreter": {
    "hash": "cd4451104da11d2cb68898e7168ea5da44abbdb4e9427c2e53ca7c1916134f31"
   }
  }
 },
 "nbformat": 4,
 "nbformat_minor": 2
}
