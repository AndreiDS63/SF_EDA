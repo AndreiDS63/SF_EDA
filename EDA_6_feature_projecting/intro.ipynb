{
 "cells": [
  {
   "cell_type": "markdown",
   "metadata": {},
   "source": [
    "Проекты машинного обучения  \n",
    "1. Постановка проблемы\n",
    "2. Сбор данных\n",
    "3. Очистка данных\n",
    "4. Разведывательный анализ данных\n",
    "5. Этап моделирования\n",
    "6. Вывод модели в продакшн"
   ]
  },
  {
   "cell_type": "markdown",
   "metadata": {},
   "source": []
  }
 ],
 "metadata": {
  "kernelspec": {
   "display_name": "Python 3.9.13 64-bit (microsoft store)",
   "language": "python",
   "name": "python3"
  },
  "language_info": {
   "name": "python",
   "version": "3.9.13"
  },
  "orig_nbformat": 4,
  "vscode": {
   "interpreter": {
    "hash": "cd4451104da11d2cb68898e7168ea5da44abbdb4e9427c2e53ca7c1916134f31"
   }
  }
 },
 "nbformat": 4,
 "nbformat_minor": 2
}
